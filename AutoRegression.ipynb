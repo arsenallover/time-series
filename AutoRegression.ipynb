{
 "cells": [
  {
   "cell_type": "markdown",
   "metadata": {},
   "source": [
    "## Concept\n",
    "\n",
    "* uses data from the same input variable in a lagged format\n",
    "* Limited forecast power like simple moving averages\n",
    "\n",
    "* $ y_t = c + \\phi_1 y_{t-1} + .. + \\phi_p y_{t-p} + \\epsilon_t $\n",
    "\n",
    "* Variables:\n",
    "    * $\\epsilon$ - irreducible error (white noise)\n",
    "    * $\\phi$ - coefficient\n",
    "    * p - order\n",
    "    \n",
    "* Higher order of p gives better forecasting results, but only to certain point\n",
    "    "
   ]
  },
  {
   "cell_type": "code",
   "execution_count": 3,
   "metadata": {},
   "outputs": [],
   "source": [
    "import numpy as np\n",
    "import pandas as pd\n",
    "from sklearn.metrics import mean_squared_error\n",
    "from statsmodels.tsa.ar_model import AR\n",
    "import matplotlib.pyplot as plt"
   ]
  },
  {
   "cell_type": "code",
   "execution_count": 6,
   "metadata": {},
   "outputs": [
    {
     "data": {
      "image/png": "[encoded data removed]",
      "text/plain": [
       "<Figure size 432x288 with 1 Axes>"
      ]
     },
     "metadata": {
      "needs_background": "light"
     },
     "output_type": "display_data"
    }
   ],
   "source": [
    "np.random.seed(123)\n",
    "x = np.arange(0, 500, 5)\n",
    "y = [i + np.random.random()*5 for i in x]\n",
    "df = pd.DataFrame(data = {'x': x, 'y': y})\n",
    "\n",
    "df_train = df[:-10]\n",
    "df_test = df[-10:]\n",
    "\n",
    "plt.plot(df_train['y'], label='Training data')\n",
    "plt.plot(df_test['y'], label='Testing data')\n",
    "plt.legend();"
   ]
  },
  {
   "cell_type": "code",
   "execution_count": 10,
   "metadata": {},
   "outputs": [
    {
     "name": "stderr",
     "output_type": "stream",
     "text": [
      "C:\\Program Files\\Anaconda3\\lib\\site-packages\\ipykernel_launcher.py:4: SettingWithCopyWarning: \n",
      "A value is trying to be set on a copy of a slice from a DataFrame.\n",
      "Try using .loc[row_indexer,col_indexer] = value instead\n",
      "\n",
      "See the caveats in the documentation: http://pandas.pydata.org/pandas-docs/stable/indexing.html#indexing-view-versus-copy\n",
      "  after removing the cwd from sys.path.\n"
     ]
    },
    {
     "data": {
      "text/plain": [
       "<matplotlib.legend.Legend at 0x1f3c23d25f8>"
      ]
     },
     "execution_count": 10,
     "metadata": {},
     "output_type": "execute_result"
    },
    {
     "data": {
      "image/png": "[encoded data removed]",
      "text/plain": [
       "<Figure size 432x288 with 1 Axes>"
      ]
     },
     "metadata": {
      "needs_background": "light"
     },
     "output_type": "display_data"
    }
   ],
   "source": [
    "# fit model\n",
    "model = AR(df_train['y']).fit(maxlag = 2, method = 'mle')\n",
    "df_test['forecast'] = model.predict(start=len(df_train), end=len(df_train) + len(df_test) - 1,\n",
    "        dynamic=False)\n",
    "\n",
    "plt.plot(df_train['y'], label='Training data')\n",
    "plt.plot(df_test['y'], color='gray', label='Testing data')\n",
    "plt.plot(df_test['forecast'], color='orange', label='Forecasts')\n",
    "plt.legend()"
   ]
  },
  {
   "cell_type": "markdown",
   "metadata": {},
   "source": [
    "## Finding Optimal lag"
   ]
  },
  {
   "cell_type": "code",
   "execution_count": 21,
   "metadata": {},
   "outputs": [
    {
     "data": {
      "text/plain": [
       "{'AR(1)': 2.05,\n",
       " 'AR(2)': 2.5,\n",
       " 'AR(3)': 3.72,\n",
       " 'AR(4)': 3.87,\n",
       " 'AR(5)': 3.05,\n",
       " 'AR(6)': 2.62,\n",
       " 'AR(7)': 2.21,\n",
       " 'AR(8)': 2.09,\n",
       " 'AR(9)': 1.45,\n",
       " 'AR(10)': 1.49,\n",
       " 'AR(11)': 1.52,\n",
       " 'AR(12)': 1.47,\n",
       " 'AR(13)': 2.02,\n",
       " 'AR(14)': 2.06,\n",
       " 'AR(15)': 2.19,\n",
       " 'AR(16)': 2.2,\n",
       " 'AR(17)': 2.2,\n",
       " 'AR(18)': 2.01,\n",
       " 'AR(19)': 1.95,\n",
       " 'AR(20)': 1.83}"
      ]
     },
     "execution_count": 21,
     "metadata": {},
     "output_type": "execute_result"
    }
   ],
   "source": [
    "# Max lag order\n",
    "max_p = 20\n",
    "# To store RMSE\n",
    "errors = {}\n",
    "\n",
    "for p in range(1, max_p + 1):\n",
    "    # Train and predict\n",
    "    model = AR(df_train['y']).fit(maxlag=p, dynamic=False)\n",
    "    preds = model.predict(\n",
    "        start=len(df_train),\n",
    "        end=len(df_train) + len(df_test) - 1,\n",
    "        dynamic=False\n",
    "    )\n",
    "    # Calculate and store RMSE\n",
    "    error = mean_squared_error(df_test['y'], preds)\n",
    "    errors[f'AR({p})'] = np.round(error, 2)\n",
    "errors\n"
   ]
  },
  {
   "cell_type": "code",
   "execution_count": 20,
   "metadata": {},
   "outputs": [
    {
     "name": "stderr",
     "output_type": "stream",
     "text": [
      "C:\\Program Files\\Anaconda3\\lib\\site-packages\\statsmodels\\base\\model.py:488: HessianInversionWarning: Inverting hessian failed, no bse or cov_params available\n",
      "  'available', HessianInversionWarning)\n",
      "C:\\Program Files\\Anaconda3\\lib\\site-packages\\statsmodels\\base\\model.py:508: ConvergenceWarning: Maximum Likelihood optimization failed to converge. Check mle_retvals\n",
      "  \"Check mle_retvals\", ConvergenceWarning)\n",
      "C:\\Program Files\\Anaconda3\\lib\\site-packages\\ipykernel_launcher.py:4: SettingWithCopyWarning: \n",
      "A value is trying to be set on a copy of a slice from a DataFrame.\n",
      "Try using .loc[row_indexer,col_indexer] = value instead\n",
      "\n",
      "See the caveats in the documentation: http://pandas.pydata.org/pandas-docs/stable/indexing.html#indexing-view-versus-copy\n",
      "  after removing the cwd from sys.path.\n"
     ]
    },
    {
     "data": {
      "text/plain": [
       "<matplotlib.legend.Legend at 0x1f3c4207b70>"
      ]
     },
     "execution_count": 20,
     "metadata": {},
     "output_type": "execute_result"
    },
    {
     "data": {
      "image/png": "[encoded data removed]",
      "text/plain": [
       "<Figure size 432x288 with 1 Axes>"
      ]
     },
     "metadata": {
      "needs_background": "light"
     },
     "output_type": "display_data"
    }
   ],
   "source": [
    "# fit best model\n",
    "model = AR(df_train['y']).fit(maxlag = 11, method = 'mle')\n",
    "df_test['forecast'] = model.predict(start=len(df_train), end=len(df_train) + len(df_test) - 1,\n",
    "        dynamic=False)\n",
    "\n",
    "plt.plot(df_train['y'], label='Training data')\n",
    "plt.plot(df_test['y'], color='gray', label='Testing data')\n",
    "plt.plot(df_test['forecast'], label='Forecasts')\n",
    "plt.legend()"
   ]
  },
  {
   "cell_type": "markdown",
   "metadata": {},
   "source": [
    "## Summary\n",
    "\n",
    "* AR works for simple datasets\n",
    "* Despite lag 12 found to be optimal, but we need to use it with AIC\n",
    "* AR models with Airline passengers wont work regardless of order, but if we make stationary it can still wont be better than exp smoothing"
   ]
  }
 ],
 "metadata": {
  "kernelspec": {
   "display_name": "Python 3",
   "language": "python",
   "name": "python3"
  },
  "language_info": {
   "codemirror_mode": {
    "name": "ipython",
    "version": 3
   },
   "file_extension": ".py",
   "mimetype": "text/x-python",
   "name": "python",
   "nbconvert_exporter": "python",
   "pygments_lexer": "ipython3",
   "version": "3.7.0"
  }
 },
 "nbformat": 4,
 "nbformat_minor": 2
}
